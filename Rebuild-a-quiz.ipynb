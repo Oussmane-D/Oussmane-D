{
 "cells": [
  {
   "cell_type": "markdown",
   "metadata": {},
   "source": [
    "# Build a quiz - Part 2"
   ]
  },
  {
   "cell_type": "markdown",
   "metadata": {},
   "source": [
    "Ci-dessous le code que nous avons écrit hier, qui pose trois questions à l'utilisateur et autorise jusqu'à 3 mauvaises réponses :"
   ]
  },
  {
   "cell_type": "code",
   "execution_count": 2,
   "metadata": {},
   "outputs": [
    {
     "name": "stdout",
     "output_type": "stream",
     "text": [
      "Voici notre quiz, tu as trois chances !\n",
      "Combien de fois la France a gagné la coupe du monde ? :\n",
      "Dommage ! Il te reste 2 chances\n",
      "Combien de fois la France a gagné la coupe du monde ? k\n",
      "Dommage ! Il te reste 1 chances\n",
      "Combien de fois la France a gagné la coupe du monde ? i\n",
      "Dommage ! Il te reste 0 chances\n",
      "Oh non ! Tu as perdu le jeu...\n"
     ]
    }
   ],
   "source": [
    "nb_de_chances = 3\n",
    "\n",
    "print(\"Voici notre quiz, tu as trois chances !\")\n",
    "\n",
    "if nb_de_chances > 0:\n",
    "    question1= input(\"Combien de fois la France a gagné la coupe du monde ? \")\n",
    "    while question1 != \"2\":\n",
    "        nb_de_chances -= 1\n",
    "        print(\"Dommage ! Il te reste {} chances\".format(nb_de_chances))\n",
    "        if nb_de_chances == 0:\n",
    "            print(\"Oh non ! Tu as perdu le jeu...\")\n",
    "            break\n",
    "        question1 = input(\"Combien de fois la France a gagné la coupe du monde ? \")\n",
    "\n",
    "if nb_de_chances > 0:\n",
    "    question2 = input(\"Quand a été fondé Apple ? \")\n",
    "    while question2 != \"1976\":\n",
    "        nb_de_chances -=1\n",
    "        print(\"Dommage ! Il te reste {} chances\".format(nb_de_chances))\n",
    "        if nb_de_chances == 0:\n",
    "            print(\"Oh non ! Tu as perdu le jeu...\")\n",
    "            break\n",
    "        question2 = input(\"Quand a été fondé Apple ? \")\n",
    "\n",
    "\n",
    "if nb_de_chances > 0:\n",
    "    question3 = input(\"Qui a fondé SpaceX ? \")\n",
    "    question3 = question3.lower()\n",
    "    while question3 != \"elon musk\":\n",
    "        nb_de_chances -=1\n",
    "        print(\"Dommage ! Il te reste {} chances\".format(nb_de_chances))\n",
    "        if nb_de_chances == 0:\n",
    "            print(\"Oh non ! Tu as perdu le jeu...\")\n",
    "            break\n",
    "        question3 = input(\"Qui a fondé SpaceX ? \")\n",
    "        question3 = question3.lower()\n",
    "\n",
    "if nb_de_chances > 0:\n",
    "    \n",
    "    print(\"Bravo ! Tu as gagné le quiz !\")\n"
   ]
  },
  {
   "cell_type": "markdown",
   "metadata": {
    "tags": []
   },
   "source": [
    "Refactorisons notre quiz maintenant que nous savons comment être au sec.\n",
    "\n",
    "SPEC :\n",
    "\n",
    "Votre code doit être SEC\n",
    "Vous devriez utiliser des fonctions"
   ]
  },
  {
   "cell_type": "code",
   "execution_count": 1,
   "metadata": {},
   "outputs": [
    {
     "name": "stdout",
     "output_type": "stream",
     "text": [
      "Voici notre quiz, tu as trois chances !\n",
      "Combien de fois la France a gagné la coupe du monde ? n\n",
      "domage\n",
      "Combien de fois la France a gagné la coupe du monde ? g\n",
      "domage\n",
      "Combien de fois la France a gagné la coupe du monde ? h\n",
      "domage\n",
      "tu as perdu...\n"
     ]
    }
   ],
   "source": [
    "print(\"Voici notre quiz, tu as trois chances !\")\n",
    "nb_de_chances = 3\n",
    "question_rep = { \"Combien de fois la France a gagné la coupe du monde ? \": \"2\",\n",
    "\"Quand a été fondé Apple ? \":  \"1976\",\n",
    "\"Qui a fondé SpaceX ? \": \"elon musk\"}        \n",
    "\n",
    "         \n",
    "if nb_de_chances > 0:\n",
    "    for quest,rep in question_rep.items():\n",
    "        while input(quest) != rep:\n",
    "            nb_de_chances -= 1\n",
    "            print(\"domage\")\n",
    "            if nb_de_chances == 0:\n",
    "                print(\"tu as perdu...\")\n",
    "                break\n",
    "        if nb_de_chances == 0:\n",
    "            break\n",
    "        if nb_de_chances > 0:\n",
    "             print(\"bravo\")\n",
    "                     \n",
    "\n",
    "\n"
   ]
  },
  {
   "cell_type": "code",
   "execution_count": null,
   "metadata": {},
   "outputs": [],
   "source": []
  }
 ],
 "metadata": {
  "kernelspec": {
   "display_name": "Python 3 (ipykernel)",
   "language": "python",
   "name": "python3"
  },
  "language_info": {
   "codemirror_mode": {
    "name": "ipython",
    "version": 3
   },
   "file_extension": ".py",
   "mimetype": "text/x-python",
   "name": "python",
   "nbconvert_exporter": "python",
   "pygments_lexer": "ipython3",
   "version": "3.10.9"
  }
 },
 "nbformat": 4,
 "nbformat_minor": 4
}
